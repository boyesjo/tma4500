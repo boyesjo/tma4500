{
  "nbformat": 4,
  "nbformat_minor": 0,
  "metadata": {
    "colab": {
      "provenance": []
    },
    "kernelspec": {
      "name": "python3",
      "display_name": "Python 3"
    },
    "language_info": {
      "name": "python"
    }
  },
  "cells": [
    {
      "cell_type": "code",
      "execution_count": 1,
      "metadata": {
        "id": "VbsFas_i94Qx"
      },
      "outputs": [],
      "source": [
        "# from https://gitlab.com/harvard-machine-learning/double-descent/-/blob/master/intro_resnet_plot.ipynb\n",
        "\n",
        "import numpy as np\n",
        "import pylab as plt\n",
        "import pandas as pd\n",
        "import tensorflow as tf\n",
        "import pickle\n",
        "\n",
        "def gload(gsname):\n",
        "    with tf.io.gfile.GFile(gsname, \"rb\") as file:\n",
        "        obj = pickle.load(file)\n",
        "    return obj\n",
        "\n",
        "def load_precomp(basedir):\n",
        "    Ms = gload(f'{basedir}/Mlist')\n",
        "    ks = gload(f'{basedir}/ks')\n",
        "    return Ms, ks\n",
        "\n",
        "def load(name):\n",
        "    return load_precomp(f'gs://hml-public/dd/{name}')\n",
        "\n",
        "Ms, ks = load('cifar10-resnet18k-p15-adam-reps')"
      ]
    },
    {
      "cell_type": "code",
      "source": [
        " ## data format:\n",
        "## Ms[i]['Test Error'][s, epoch] : Test Error of model of size s, at epoch. For trial i (of 5 trials).\n",
        "\n",
        "errs = np.array([M['Test Error'][:, -1] for M in Ms])\n",
        "\n",
        "p = 0.15 # fraction of noise\n",
        "errs = 1.0 - (1-p)*(1-errs) + errs*p/9.0 # remap clean test error --> noisy test error.\n",
        "\n",
        "stds = np.std(errs, axis=0)\n",
        "mean = np.mean(errs, axis=0)\n",
        "train_err = np.mean([M['Train Error'][:, -1] for M in Ms], axis=0)\n",
        "\n",
        "\n",
        "fig, ax = plt.subplots()\n",
        "ax.plot(ks, mean, label='Test Error')\n",
        "ax.plot(ks, train_err, label='Train Error')\n",
        "ax.fill_between(ks, mean-stds, mean+stds ,alpha=0.3)\n",
        "ax.set_xlabel(\"Model Size\")\n",
        "ax.set_ylabel(\"Test/Train Error\")\n",
        "ax.set_title(\"ResNet18 Double-Descent\")\n",
        "ax.legend() "
      ],
      "metadata": {
        "colab": {
          "base_uri": "https://localhost:8080/",
          "height": 312
        },
        "id": "ITxncb3I-B5s",
        "outputId": "c5bb4d7c-37e7-430a-e764-abe342bfc4e7"
      },
      "execution_count": 3,
      "outputs": [
        {
          "output_type": "execute_result",
          "data": {
            "text/plain": [
              "<matplotlib.legend.Legend at 0x7f5cd96e8790>"
            ]
          },
          "metadata": {},
          "execution_count": 3
        },
        {
          "output_type": "display_data",
          "data": {
            "text/plain": [
              "<Figure size 432x288 with 1 Axes>"
            ],
            "image/png": "[encoded data removed]"
          },
          "metadata": {
            "needs_background": "light"
          }
        }
      ]
    },
    {
      "cell_type": "code",
      "source": [
        "pd.DataFrame(\n",
        "    {\"model_size\": ks,\n",
        "     \"train_err\": train_err,\n",
        "     \"test_err\": mean\n",
        "    }\n",
        ").to_csv(\"double_descent.csv\", index=False)"
      ],
      "metadata": {
        "id": "f33GU45U-IS4"
      },
      "execution_count": 9,
      "outputs": []
    },
    {
      "cell_type": "code",
      "source": [],
      "metadata": {
        "id": "PWa_Ybkq-Kv3"
      },
      "execution_count": null,
      "outputs": []
    }
  ]
}